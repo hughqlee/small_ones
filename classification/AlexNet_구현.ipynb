{
  "nbformat": 4,
  "nbformat_minor": 0,
  "metadata": {
    "colab": {
      "name": "AlexNet_구현.ipynb",
      "provenance": [],
      "collapsed_sections": []
    },
    "kernelspec": {
      "name": "python3",
      "display_name": "Python 3"
    },
    "language_info": {
      "name": "python"
    },
    "accelerator": "GPU"
  },
  "cells": [
    {
      "cell_type": "code",
      "metadata": {
        "id": "6bZDUREs0Kl7"
      },
      "source": [
        "import os\n",
        "import PIL\n",
        "import numpy as np\n",
        "import matplotlib.pyplot as plt\n",
        "import tensorflow as tf\n",
        "\n",
        "from google.colab import files"
      ],
      "execution_count": 85,
      "outputs": []
    },
    {
      "cell_type": "markdown",
      "metadata": {
        "id": "z-XrXUxpyniY"
      },
      "source": [
        "## Load Data"
      ]
    },
    {
      "cell_type": "code",
      "metadata": {
        "id": "9ayZWNCZEEbu",
        "colab": {
          "resources": {
            "http://localhost:8080/nbextensions/google.colab/files.js": {
              "data": "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",
              "ok": true,
              "headers": [
                [
                  "content-type",
                  "application/javascript"
                ]
              ],
              "status": 200,
              "status_text": ""
            }
          },
          "base_uri": "https://localhost:8080/",
          "height": 56
        },
        "outputId": "dee8d403-5731-459d-f0f7-ef2347311160"
      },
      "source": [
        "files.upload()"
      ],
      "execution_count": 2,
      "outputs": [
        {
          "output_type": "display_data",
          "data": {
            "text/html": [
              "\n",
              "     <input type=\"file\" id=\"files-ccc70d50-6ddc-47f1-89af-7145b361462d\" name=\"files[]\" multiple disabled\n",
              "        style=\"border:none\" />\n",
              "     <output id=\"result-ccc70d50-6ddc-47f1-89af-7145b361462d\">\n",
              "      Upload widget is only available when the cell has been executed in the\n",
              "      current browser session. Please rerun this cell to enable.\n",
              "      </output>\n",
              "      <script src=\"/nbextensions/google.colab/files.js\"></script> "
            ],
            "text/plain": [
              "<IPython.core.display.HTML object>"
            ]
          },
          "metadata": {
            "tags": []
          }
        },
        {
          "output_type": "stream",
          "text": [
            "Saving flower_photos.zip to flower_photos.zip\n"
          ],
          "name": "stdout"
        }
      ]
    },
    {
      "cell_type": "code",
      "metadata": {
        "id": "Em2Bg6OuHk_K"
      },
      "source": [
        "!unzip flower_photos.zip"
      ],
      "execution_count": null,
      "outputs": []
    },
    {
      "cell_type": "code",
      "metadata": {
        "id": "fVaUcGIp0Vgw"
      },
      "source": [
        "batch_size = 32\n",
        "img_width = 227\n",
        "img_height = 227"
      ],
      "execution_count": 86,
      "outputs": []
    },
    {
      "cell_type": "code",
      "metadata": {
        "colab": {
          "base_uri": "https://localhost:8080/"
        },
        "id": "lkerBOz_0Xbm",
        "outputId": "a50a1e61-b4c8-4886-e119-7edf83451813"
      },
      "source": [
        "train_ds = tf.keras.preprocessing.image_dataset_from_directory(\n",
        "  directory='flower_photos',\n",
        "  validation_split=0.2,\n",
        "  subset=\"training\",\n",
        "  seed=42,\n",
        "  image_size=(img_height, img_width),\n",
        "  batch_size=batch_size)"
      ],
      "execution_count": 87,
      "outputs": [
        {
          "output_type": "stream",
          "text": [
            "Found 3670 files belonging to 5 classes.\n",
            "Using 2936 files for training.\n"
          ],
          "name": "stdout"
        }
      ]
    },
    {
      "cell_type": "code",
      "metadata": {
        "colab": {
          "base_uri": "https://localhost:8080/"
        },
        "id": "37mkMpvC0ZKN",
        "outputId": "7500d718-7084-4b05-8684-e57bd3c13b9e"
      },
      "source": [
        "val_ds = tf.keras.preprocessing.image_dataset_from_directory(\n",
        "  directory='flower_photos',\n",
        "  validation_split=0.2,\n",
        "  subset=\"validation\",\n",
        "  seed=42,\n",
        "  image_size=(img_height, img_width),\n",
        "  batch_size=batch_size)"
      ],
      "execution_count": 88,
      "outputs": [
        {
          "output_type": "stream",
          "text": [
            "Found 3670 files belonging to 5 classes.\n",
            "Using 734 files for validation.\n"
          ],
          "name": "stdout"
        }
      ]
    },
    {
      "cell_type": "code",
      "metadata": {
        "colab": {
          "base_uri": "https://localhost:8080/"
        },
        "id": "vIUV4CJe0pcu",
        "outputId": "0ab04275-49d3-4dfe-d852-619e9228075d"
      },
      "source": [
        "class_names = train_ds.class_names\n",
        "print(class_names)"
      ],
      "execution_count": 89,
      "outputs": [
        {
          "output_type": "stream",
          "text": [
            "['daisy', 'dandelion', 'roses', 'sunflowers', 'tulips']\n"
          ],
          "name": "stdout"
        }
      ]
    },
    {
      "cell_type": "code",
      "metadata": {
        "colab": {
          "base_uri": "https://localhost:8080/"
        },
        "id": "a065EMmC0tPT",
        "outputId": "9062b509-a21d-44e2-d421-bb70f8050fdb"
      },
      "source": [
        "for img, label in train_ds:\n",
        "    print(img.shape,label.shape)\n",
        "    break"
      ],
      "execution_count": 90,
      "outputs": [
        {
          "output_type": "stream",
          "text": [
            "(32, 227, 227, 3) (32,)\n"
          ],
          "name": "stdout"
        }
      ]
    },
    {
      "cell_type": "code",
      "metadata": {
        "id": "bvDRdEij0vM6"
      },
      "source": [
        "AUTOTUNE = tf.data.experimental.AUTOTUNE\n",
        "\n",
        "train_ds = train_ds.cache().shuffle(1000).prefetch(buffer_size=AUTOTUNE)\n",
        "val_ds = val_ds.cache().prefetch(buffer_size=AUTOTUNE)"
      ],
      "execution_count": 91,
      "outputs": []
    },
    {
      "cell_type": "markdown",
      "metadata": {
        "id": "G0TltcOjyu62"
      },
      "source": [
        "## Modeling"
      ]
    },
    {
      "cell_type": "code",
      "metadata": {
        "id": "xYyBvQMu_4z9"
      },
      "source": [
        "from tensorflow.keras.models import Sequential\n",
        "from tensorflow.keras.layers import InputLayer ,Conv2D, MaxPool2D, ZeroPadding2D, Flatten, Dense\n",
        "\n",
        "model = Sequential([\n",
        "                    InputLayer((227,227,3)),\n",
        "                    Conv2D(96, 11, 4, activation='relu'),\n",
        "                    MaxPool2D((3,3), strides=2),\n",
        "                    ZeroPadding2D((2,2)),\n",
        "                    Conv2D(256, 5, activation='relu'),\n",
        "                    MaxPool2D((3,3), 2),\n",
        "                    Conv2D(384, 3, padding='same', activation='relu'),\n",
        "                    Conv2D(384, 3, padding='same', activation='relu'),\n",
        "                    Conv2D(256, 3, padding='same', activation='relu'),\n",
        "                    MaxPool2D((3,3), 2),\n",
        "                    Flatten(),\n",
        "                    Dense(4096, activation='relu'),\n",
        "                    Dense(4096, activation='relu'),\n",
        "                    Dense(100, activation='softmax'),\n",
        "])"
      ],
      "execution_count": 92,
      "outputs": []
    },
    {
      "cell_type": "code",
      "metadata": {
        "id": "syufZuqd0uup"
      },
      "source": [
        "model.compile(optimizer='adam', loss='sparse_categorical_crossentropy', metrics='accuracy')"
      ],
      "execution_count": 93,
      "outputs": []
    },
    {
      "cell_type": "code",
      "metadata": {
        "colab": {
          "base_uri": "https://localhost:8080/"
        },
        "id": "94igceOpDPbo",
        "outputId": "aa8541c8-9b22-4956-b83a-5b662d4dbcb4"
      },
      "source": [
        "model.summary()"
      ],
      "execution_count": 94,
      "outputs": [
        {
          "output_type": "stream",
          "text": [
            "Model: \"sequential_12\"\n",
            "_________________________________________________________________\n",
            "Layer (type)                 Output Shape              Param #   \n",
            "=================================================================\n",
            "conv2d_60 (Conv2D)           (None, 55, 55, 96)        34944     \n",
            "_________________________________________________________________\n",
            "max_pooling2d_33 (MaxPooling (None, 27, 27, 96)        0         \n",
            "_________________________________________________________________\n",
            "zero_padding2d_10 (ZeroPaddi (None, 31, 31, 96)        0         \n",
            "_________________________________________________________________\n",
            "conv2d_61 (Conv2D)           (None, 27, 27, 256)       614656    \n",
            "_________________________________________________________________\n",
            "max_pooling2d_34 (MaxPooling (None, 13, 13, 256)       0         \n",
            "_________________________________________________________________\n",
            "conv2d_62 (Conv2D)           (None, 13, 13, 384)       885120    \n",
            "_________________________________________________________________\n",
            "conv2d_63 (Conv2D)           (None, 13, 13, 384)       1327488   \n",
            "_________________________________________________________________\n",
            "conv2d_64 (Conv2D)           (None, 13, 13, 256)       884992    \n",
            "_________________________________________________________________\n",
            "max_pooling2d_35 (MaxPooling (None, 6, 6, 256)         0         \n",
            "_________________________________________________________________\n",
            "flatten_12 (Flatten)         (None, 9216)              0         \n",
            "_________________________________________________________________\n",
            "dense_39 (Dense)             (None, 4096)              37752832  \n",
            "_________________________________________________________________\n",
            "dense_40 (Dense)             (None, 4096)              16781312  \n",
            "_________________________________________________________________\n",
            "dense_41 (Dense)             (None, 100)               409700    \n",
            "=================================================================\n",
            "Total params: 58,691,044\n",
            "Trainable params: 58,691,044\n",
            "Non-trainable params: 0\n",
            "_________________________________________________________________\n"
          ],
          "name": "stdout"
        }
      ]
    },
    {
      "cell_type": "code",
      "metadata": {
        "colab": {
          "base_uri": "https://localhost:8080/"
        },
        "id": "Sz1YerC6090_",
        "outputId": "ab6b0e2e-d478-4b81-aefc-c3082e9a986d"
      },
      "source": [
        "history = model.fit(train_ds, epochs=50, validation_data=val_ds)"
      ],
      "execution_count": 97,
      "outputs": [
        {
          "output_type": "stream",
          "text": [
            "Epoch 1/50\n",
            "92/92 [==============================] - 4s 47ms/step - loss: 1.2364 - accuracy: 0.5099 - val_loss: 1.2253 - val_accuracy: 0.5123\n",
            "Epoch 2/50\n",
            "92/92 [==============================] - 4s 46ms/step - loss: 1.1562 - accuracy: 0.5317 - val_loss: 1.2489 - val_accuracy: 0.5068\n",
            "Epoch 3/50\n",
            "92/92 [==============================] - 4s 46ms/step - loss: 1.0959 - accuracy: 0.5569 - val_loss: 1.2040 - val_accuracy: 0.5163\n",
            "Epoch 4/50\n",
            "92/92 [==============================] - 4s 46ms/step - loss: 1.0964 - accuracy: 0.5606 - val_loss: 1.1638 - val_accuracy: 0.5531\n",
            "Epoch 5/50\n",
            "92/92 [==============================] - 4s 46ms/step - loss: 1.0728 - accuracy: 0.5603 - val_loss: 1.1432 - val_accuracy: 0.5245\n",
            "Epoch 6/50\n",
            "92/92 [==============================] - 4s 46ms/step - loss: 1.0007 - accuracy: 0.5984 - val_loss: 1.3437 - val_accuracy: 0.5054\n",
            "Epoch 7/50\n",
            "92/92 [==============================] - 4s 46ms/step - loss: 0.9457 - accuracy: 0.6144 - val_loss: 1.2699 - val_accuracy: 0.5177\n",
            "Epoch 8/50\n",
            "92/92 [==============================] - 4s 46ms/step - loss: 0.9714 - accuracy: 0.6230 - val_loss: 1.2801 - val_accuracy: 0.5000\n",
            "Epoch 9/50\n",
            "92/92 [==============================] - 4s 46ms/step - loss: 0.8961 - accuracy: 0.6441 - val_loss: 1.2352 - val_accuracy: 0.5463\n",
            "Epoch 10/50\n",
            "92/92 [==============================] - 4s 46ms/step - loss: 0.8193 - accuracy: 0.6788 - val_loss: 1.3627 - val_accuracy: 0.4932\n",
            "Epoch 11/50\n",
            "92/92 [==============================] - 4s 47ms/step - loss: 0.8402 - accuracy: 0.6866 - val_loss: 1.2901 - val_accuracy: 0.5668\n",
            "Epoch 12/50\n",
            "92/92 [==============================] - 4s 47ms/step - loss: 0.7476 - accuracy: 0.7081 - val_loss: 1.4319 - val_accuracy: 0.4959\n",
            "Epoch 13/50\n",
            "92/92 [==============================] - 4s 47ms/step - loss: 0.7554 - accuracy: 0.7125 - val_loss: 1.3346 - val_accuracy: 0.5409\n",
            "Epoch 14/50\n",
            "92/92 [==============================] - 4s 47ms/step - loss: 0.7279 - accuracy: 0.7292 - val_loss: 1.3638 - val_accuracy: 0.5191\n",
            "Epoch 15/50\n",
            "92/92 [==============================] - 4s 47ms/step - loss: 0.6406 - accuracy: 0.7609 - val_loss: 1.5675 - val_accuracy: 0.5232\n",
            "Epoch 16/50\n",
            "92/92 [==============================] - 4s 47ms/step - loss: 0.6437 - accuracy: 0.7674 - val_loss: 1.3305 - val_accuracy: 0.5232\n",
            "Epoch 17/50\n",
            "92/92 [==============================] - 4s 47ms/step - loss: 0.5207 - accuracy: 0.8069 - val_loss: 1.5623 - val_accuracy: 0.5436\n",
            "Epoch 18/50\n",
            "92/92 [==============================] - 4s 47ms/step - loss: 0.6958 - accuracy: 0.7411 - val_loss: 1.3934 - val_accuracy: 0.5409\n",
            "Epoch 19/50\n",
            "92/92 [==============================] - 4s 47ms/step - loss: 0.5101 - accuracy: 0.8127 - val_loss: 1.7959 - val_accuracy: 0.5300\n",
            "Epoch 20/50\n",
            "92/92 [==============================] - 4s 47ms/step - loss: 0.4628 - accuracy: 0.8396 - val_loss: 1.8989 - val_accuracy: 0.5082\n",
            "Epoch 21/50\n",
            "92/92 [==============================] - 4s 47ms/step - loss: 0.4858 - accuracy: 0.8328 - val_loss: 1.7111 - val_accuracy: 0.5286\n",
            "Epoch 22/50\n",
            "92/92 [==============================] - 4s 47ms/step - loss: 0.4197 - accuracy: 0.8508 - val_loss: 2.0418 - val_accuracy: 0.5109\n",
            "Epoch 23/50\n",
            "92/92 [==============================] - 4s 47ms/step - loss: 0.4068 - accuracy: 0.8627 - val_loss: 2.1861 - val_accuracy: 0.5381\n",
            "Epoch 24/50\n",
            "92/92 [==============================] - 4s 47ms/step - loss: 1.3665 - accuracy: 0.4942 - val_loss: 1.3641 - val_accuracy: 0.4741\n",
            "Epoch 25/50\n",
            "92/92 [==============================] - 4s 48ms/step - loss: 0.6987 - accuracy: 0.7245 - val_loss: 1.8081 - val_accuracy: 0.5068\n",
            "Epoch 26/50\n",
            "92/92 [==============================] - 4s 48ms/step - loss: 0.4215 - accuracy: 0.8505 - val_loss: 2.2385 - val_accuracy: 0.5354\n",
            "Epoch 27/50\n",
            "92/92 [==============================] - 4s 48ms/step - loss: 0.3500 - accuracy: 0.8822 - val_loss: 2.0036 - val_accuracy: 0.4864\n",
            "Epoch 28/50\n",
            "92/92 [==============================] - 4s 48ms/step - loss: 0.3061 - accuracy: 0.8931 - val_loss: 2.6367 - val_accuracy: 0.5409\n",
            "Epoch 29/50\n",
            "92/92 [==============================] - 4s 48ms/step - loss: 0.2346 - accuracy: 0.9176 - val_loss: 2.5670 - val_accuracy: 0.5054\n",
            "Epoch 30/50\n",
            "92/92 [==============================] - 4s 48ms/step - loss: 0.2374 - accuracy: 0.9179 - val_loss: 2.6089 - val_accuracy: 0.5327\n",
            "Epoch 31/50\n",
            "92/92 [==============================] - 4s 48ms/step - loss: 0.3342 - accuracy: 0.8924 - val_loss: 2.3273 - val_accuracy: 0.5082\n",
            "Epoch 32/50\n",
            "92/92 [==============================] - 4s 48ms/step - loss: 0.2229 - accuracy: 0.9271 - val_loss: 3.0719 - val_accuracy: 0.5272\n",
            "Epoch 33/50\n",
            "92/92 [==============================] - 4s 48ms/step - loss: 0.3751 - accuracy: 0.8811 - val_loss: 2.4163 - val_accuracy: 0.5327\n",
            "Epoch 34/50\n",
            "92/92 [==============================] - 4s 48ms/step - loss: 0.2341 - accuracy: 0.9326 - val_loss: 2.5659 - val_accuracy: 0.5177\n",
            "Epoch 35/50\n",
            "92/92 [==============================] - 4s 48ms/step - loss: 0.1391 - accuracy: 0.9550 - val_loss: 4.1135 - val_accuracy: 0.4700\n",
            "Epoch 36/50\n",
            "92/92 [==============================] - 4s 48ms/step - loss: 0.2634 - accuracy: 0.9196 - val_loss: 2.8273 - val_accuracy: 0.5300\n",
            "Epoch 37/50\n",
            "92/92 [==============================] - 4s 48ms/step - loss: 0.2229 - accuracy: 0.9322 - val_loss: 3.1914 - val_accuracy: 0.4932\n",
            "Epoch 38/50\n",
            "92/92 [==============================] - 4s 48ms/step - loss: 0.1289 - accuracy: 0.9588 - val_loss: 3.6471 - val_accuracy: 0.4973\n",
            "Epoch 39/50\n",
            "92/92 [==============================] - 4s 48ms/step - loss: 0.1446 - accuracy: 0.9595 - val_loss: 3.7016 - val_accuracy: 0.4796\n",
            "Epoch 40/50\n",
            "92/92 [==============================] - 4s 48ms/step - loss: 0.4223 - accuracy: 0.8736 - val_loss: 2.4145 - val_accuracy: 0.4932\n",
            "Epoch 41/50\n",
            "92/92 [==============================] - 4s 48ms/step - loss: 0.3164 - accuracy: 0.9060 - val_loss: 2.8513 - val_accuracy: 0.4837\n",
            "Epoch 42/50\n",
            "92/92 [==============================] - 4s 48ms/step - loss: 0.3661 - accuracy: 0.8890 - val_loss: 2.6065 - val_accuracy: 0.5068\n",
            "Epoch 43/50\n",
            "92/92 [==============================] - 4s 48ms/step - loss: 0.1420 - accuracy: 0.9554 - val_loss: 3.5682 - val_accuracy: 0.4714\n",
            "Epoch 44/50\n",
            "92/92 [==============================] - 4s 48ms/step - loss: 0.1070 - accuracy: 0.9680 - val_loss: 3.5878 - val_accuracy: 0.5041\n",
            "Epoch 45/50\n",
            "92/92 [==============================] - 4s 48ms/step - loss: 0.1430 - accuracy: 0.9578 - val_loss: 3.7893 - val_accuracy: 0.5095\n",
            "Epoch 46/50\n",
            "92/92 [==============================] - 4s 48ms/step - loss: 0.1925 - accuracy: 0.9397 - val_loss: 3.5217 - val_accuracy: 0.4932\n",
            "Epoch 47/50\n",
            "92/92 [==============================] - 4s 48ms/step - loss: 0.1792 - accuracy: 0.9499 - val_loss: 3.4162 - val_accuracy: 0.4673\n",
            "Epoch 48/50\n",
            "92/92 [==============================] - 4s 48ms/step - loss: 0.1446 - accuracy: 0.9533 - val_loss: 3.9853 - val_accuracy: 0.4578\n",
            "Epoch 49/50\n",
            "92/92 [==============================] - 4s 48ms/step - loss: 0.2561 - accuracy: 0.9275 - val_loss: 3.1080 - val_accuracy: 0.5191\n",
            "Epoch 50/50\n",
            "92/92 [==============================] - 4s 48ms/step - loss: 0.1386 - accuracy: 0.9636 - val_loss: 3.6508 - val_accuracy: 0.5272\n"
          ],
          "name": "stdout"
        }
      ]
    },
    {
      "cell_type": "code",
      "metadata": {
        "colab": {
          "base_uri": "https://localhost:8080/"
        },
        "id": "rUKrwF48EZNe",
        "outputId": "4d9382e1-b6e5-4ee0-9917-561d81413269"
      },
      "source": [
        "sunflower_url = \"https://storage.googleapis.com/download.tensorflow.org/example_images/592px-Red_sunflower.jpg\"\n",
        "sunflower_path = tf.keras.utils.get_file('Red_sunflower', origin=sunflower_url)\n",
        "\n",
        "img = tf.keras.preprocessing.image.load_img(\n",
        "    sunflower_path, target_size=(img_height, img_width)\n",
        ")\n",
        "img_array = tf.keras.preprocessing.image.img_to_array(img)\n",
        "img_array = tf.expand_dims(img_array, 0) # Create a batch\n",
        "\n",
        "predictions = model.predict(img_array)\n",
        "score = tf.nn.softmax(predictions[0])\n",
        "\n",
        "print(\n",
        "    \"This image most likely belongs to {} with a {:.2f} percent confidence.\"\n",
        "    .format(class_names[np.argmax(score)], 100 * np.max(score))\n",
        ")"
      ],
      "execution_count": 98,
      "outputs": [
        {
          "output_type": "stream",
          "text": [
            "This image most likely belongs to tulips with a 2.67 percent confidence.\n"
          ],
          "name": "stdout"
        }
      ]
    },
    {
      "cell_type": "code",
      "metadata": {
        "id": "NJGythlkIBRE"
      },
      "source": [
        ""
      ],
      "execution_count": null,
      "outputs": []
    }
  ]
}